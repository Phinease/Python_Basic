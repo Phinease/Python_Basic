{
 "cells": [
  {
   "cell_type": "code",
   "execution_count": 1,
   "metadata": {},
   "outputs": [],
   "source": [
    "import numpy as np\n",
    "import matplotlib.pyplot as plt"
   ]
  },
  {
   "cell_type": "markdown",
   "metadata": {},
   "source": [
    "# Flocon de von Koch\n",
    "\n",
    "Le flocon de von Koch est une fractale dont des approximations arbitrairement proches peuvent être obtenues de la manière récurrente par l'algorithme suivant :\n",
    "1. Commencer à partir d'une ligne polygonale quelconque du plan. (Le flocon canonique de von Koch se construit à partir d'un triangle équilatéral ayant une base parallèle à l'axe des abscisses.)\n",
    "2. Pour chaque segment de la ligne on divise le segment en trois segments de longueurs égales, on construit un triangle équilatéral ayant pour base le segment médian et on supprime le segment qui était la base du triangle.\n",
    "<img src=\"chapeau.png\"/>\n",
    "3. Recommencer à la deuxième étape avec la nouvelle ligne polygonale obtenue.\n",
    "<img src=\"von_koch.png\"/>"
   ]
  },
  {
   "cell_type": "markdown",
   "metadata": {},
   "source": [
    "Commençons par créer les deux lignes brisées initiales permettant de construire les flocons.\n",
    "\n",
    "1. La première ligne est constituée de deux points de coordonnées $(0,0)$ et $(1,0)$ par exemple. Créez une fonction `init_0()` qui retourne un tableau numpy de taille $(2,2)$ contenant ces points.\n",
    "\n",
    "2. La seconde ligne est constituée de quatre points de coordonnées $(0,0)$, $(1/2,\\sin(\\pi/3))$, $(1,0)$ et finalement $(0,0)$ pour revenir au point de départ. Créez une fonction `init_1()` qui retourne un tableau numpy de taille $(2,4)$ contenant ces points."
   ]
  },
  {
   "cell_type": "code",
   "execution_count": 2,
   "metadata": {},
   "outputs": [],
   "source": [
    "def init_0():\n",
    "    return np.array([[0,1],[0,0]])\n",
    "def init_1():\n",
    "    return np.array([[0,1/2,1,0],[0,np.sin(np.pi/3),0,0]])"
   ]
  },
  {
   "cell_type": "markdown",
   "metadata": {},
   "source": [
    "Tracez les deux lignes brisées intiales"
   ]
  },
  {
   "cell_type": "code",
   "execution_count": 3,
   "metadata": {},
   "outputs": [
    {
     "name": "stdout",
     "output_type": "stream",
     "text": [
      "[0.  0.5 1.  0. ]\n",
      "[0.        0.8660254 0.        0.       ]\n"
     ]
    },
    {
     "data": {
      "text/plain": [
       "[<matplotlib.lines.Line2D at 0x2995ae3b470>]"
      ]
     },
     "execution_count": 3,
     "metadata": {},
     "output_type": "execute_result"
    },
    {
     "data": {
      "image/png": "[encoded data removed]",
      "text/plain": [
       "<Figure size 432x288 with 1 Axes>"
      ]
     },
     "metadata": {
      "needs_background": "light"
     },
     "output_type": "display_data"
    }
   ],
   "source": [
    "x = init_1()[0]\n",
    "print(x)\n",
    "y = init_1()[1]\n",
    "print(y)\n",
    "plt.plot(x,y,color='r')\n",
    "# plt.scatter(x, y, color='b')"
   ]
  },
  {
   "cell_type": "markdown",
   "metadata": {},
   "source": [
    "Programmez une fonction `construire_chapeau(extremites)` qui prend en argument un tableau `extremites` de taille $ 2 \\times 2 $ contenant les coordonnées des extremités d'un segment et qui renvoit un tableau `points` de taille $ 2 \\times 5 $ contenant les coordonnées des sommets de la ligne polygonale (&laquo; le chapeau de sorcière &raquo;) construite à partir de ce segment à l'étape 2 de l'algorithme."
   ]
  },
  {
   "cell_type": "code",
   "execution_count": 14,
   "metadata": {},
   "outputs": [
    {
     "name": "stdout",
     "output_type": "stream",
     "text": [
      "[[0, 33.333333333333336, 50.0, 66.66666666666666, 100], [0, 0.0, 28.86751345948129, 0.0, 0]]\n"
     ]
    },
    {
     "data": {
      "text/plain": [
       "[<matplotlib.lines.Line2D at 0x2995d56da20>]"
      ]
     },
     "execution_count": 14,
     "metadata": {},
     "output_type": "execute_result"
    },
    {
     "data": {
      "image/png": "[encoded data removed]",
      "text/plain": [
       "<Figure size 432x288 with 1 Axes>"
      ]
     },
     "metadata": {
      "needs_background": "light"
     },
     "output_type": "display_data"
    }
   ],
   "source": [
    "def construire_chapeau(extremites):\n",
    "    dx = extremites[0][1] - extremites[0][0]\n",
    "    dy = extremites[1][1] - extremites[1][0]\n",
    "    \n",
    "    milieu = [extremites[0][0] + dx/2, extremites[1][0] + dy/2]\n",
    "    \n",
    "    long = dx/3\n",
    "    high = dy/3\n",
    "    h = np.sqrt(long**2-(long/2)**2)\n",
    "    v = [[-extremites[0][1],-extremites[1][1]],[extremites[0][0],extremites[0][1]]] # tourner 90 degrees\n",
    "    distance = np.sqrt(dx**2+dy**2)\n",
    "    h /= distance\n",
    "    v = [[-extremites[0][1]*h,-extremites[1][1]*h],[extremites[0][0]*h,extremites[0][1]*h]]\n",
    "    p = [milieu[0]+v[1][0],milieu[1]+v[1][1]] # coordonner de sommet\n",
    "    \n",
    "    xP = [extremites[0][0],extremites[0][0]+long,p[0],extremites[0][1]-long,extremites[0][1]]\n",
    "    yP = [extremites[1][0],extremites[1][0]+high,p[1],extremites[1][1]-high,extremites[1][1]]\n",
    "    \n",
    "    points = [[],[]]\n",
    "    for i in range(5):\n",
    "        points[0].append(xP[i])\n",
    "        points[1].append(yP[i])       \n",
    "    return points\n",
    "        \n",
    "    return points\n",
    "\n",
    "p=construire_chapeau([[0,100],[0,0]])\n",
    "p1=construire_chapeau([[0,0],[0,100]])\n",
    "p2=construire_chapeau([[0,100],[100,100]])\n",
    "p3=construire_chapeau([[100,100],[100,0]])\n",
    "print(p)\n",
    "\n",
    "ax3=plt.axes()\n",
    "ax3.plot(p[0],p[1])\n",
    "ax3.plot(p1[0],p1[1])\n",
    "ax3.plot(p2[0],p2[1])\n",
    "ax3.plot(p3[0],p3[1])"
   ]
  },
  {
   "cell_type": "markdown",
   "metadata": {},
   "source": [
    "Tracez la première itération pour les deux données initiales"
   ]
  },
  {
   "cell_type": "code",
   "execution_count": null,
   "metadata": {},
   "outputs": [],
   "source": []
  },
  {
   "cell_type": "markdown",
   "metadata": {},
   "source": [
    "Proposez une fonction qui prend en argument une ligne brisée et un entier n et qui retourne la ligne obtenue après n itérations. Cette fonction pourra être récursive"
   ]
  },
  {
   "cell_type": "code",
   "execution_count": null,
   "metadata": {},
   "outputs": [],
   "source": []
  },
  {
   "cell_type": "markdown",
   "metadata": {},
   "source": [
    "Tracez les flocons pour n allant de 0 à 4."
   ]
  },
  {
   "cell_type": "code",
   "execution_count": null,
   "metadata": {
    "scrolled": false
   },
   "outputs": [],
   "source": []
  },
  {
   "cell_type": "code",
   "execution_count": null,
   "metadata": {},
   "outputs": [],
   "source": []
  }
 ],
 "metadata": {
  "kernelspec": {
   "display_name": "Python 3",
   "language": "python",
   "name": "python3"
  },
  "language_info": {
   "codemirror_mode": {
    "name": "ipython",
    "version": 3
   },
   "file_extension": ".py",
   "mimetype": "text/x-python",
   "name": "python",
   "nbconvert_exporter": "python",
   "pygments_lexer": "ipython3",
   "version": "3.7.3"
  }
 },
 "nbformat": 4,
 "nbformat_minor": 2
}
