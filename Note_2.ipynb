{
 "cells": [
  {
   "cell_type": "markdown",
   "metadata": {},
   "source": [
    "import numpy as np\n",
    "\n",
    "# np.where(A>0,1,-1)\n",
    "\n",
    "Tableau initial `A`"
   ]
  },
  {
   "cell_type": "markdown",
   "metadata": {},
   "source": [
    "# EXCEPTION\n",
    "\n",
    "## signal une erreur avec <font color='red'>raise TypeDErreur()</font> - implicite\n",
    "\n",
    "使用 try: 和 except ... : 的型式异常处理\n",
    "\n",
    "raise(...) 可以引起一个异常\n",
    "\n",
    "* Exemple：<br>\n",
    "```\n",
    "    def demande_nombre():\n",
    "        return int(input(\"...\"))\n",
    "        a = 0\n",
    "    while True:\n",
    "        try:\n",
    "        a = demande_nombre()\n",
    "        break\n",
    "    except ValueError: \n",
    "        print(\"Un nombre stp\")\n",
    "```\n",
    "* Varientes du Try/Except\n",
    "```\n",
    "    Try:\n",
    "        ...\n",
    "    except Type :\n",
    "        ...\n",
    "    except Type as var:\n",
    "        ...\n",
    "    except (TypeA, TypeB):\n",
    "        ...\n",
    "    else :\n",
    "        ... <- s'il y a pas d'exception\n",
    "```"
   ]
  },
  {
   "cell_type": "code",
   "execution_count": null,
   "metadata": {},
   "outputs": [],
   "source": []
  }
 ],
 "metadata": {
  "kernelspec": {
   "display_name": "Python 3",
   "language": "python",
   "name": "python3"
  },
  "language_info": {
   "codemirror_mode": {
    "name": "ipython",
    "version": 3
   },
   "file_extension": ".py",
   "mimetype": "text/x-python",
   "name": "python",
   "nbconvert_exporter": "python",
   "pygments_lexer": "ipython3",
   "version": "3.7.3"
  }
 },
 "nbformat": 4,
 "nbformat_minor": 2
}
