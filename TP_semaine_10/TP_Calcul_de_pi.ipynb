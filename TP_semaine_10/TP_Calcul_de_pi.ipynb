{
 "cells": [
  {
   "cell_type": "code",
   "execution_count": 1,
   "metadata": {},
   "outputs": [],
   "source": [
    "import numpy as np\n",
    "import numpy.random as npr\n",
    "import matplotlib.pyplot as plt\n",
    "%matplotlib inline\n",
    "import matplotlib.animation as anim\n",
    "from IPython.display import HTML\n",
    "import math"
   ]
  },
  {
   "cell_type": "markdown",
   "metadata": {},
   "source": [
    "# Tir de fléchette sur une cible\n",
    "\n",
    "Il s'agit de lancer aléatoirement des fléchettes dans un carré muni d'une cible. La cible sera le cercle de rayon 1 et de centre $(0;0)$ et les fléchette seront lancée dans le carré circonscrit."
   ]
  },
  {
   "cell_type": "markdown",
   "metadata": {},
   "source": [
    "![Cible](flechette.png)"
   ]
  },
  {
   "cell_type": "markdown",
   "metadata": {},
   "source": [
    "La probabilité de lancer la fléchette dans la cible est donc le rapport entre les deux surface, soit \n",
    "\\begin{equation*}\n",
    "\tp = \\frac{\\mathcal{A}_\\text{cercle}}{\\mathcal{A}_\\text{carre}} = \\frac{\\pi}{2*2} = \\frac{\\pi}{4}\n",
    "\\end{equation*}\n",
    "\tLorsque l'on tire un grand nombre de fléchette, la loi de grand nombres indique que la proportion des fléchette dans la cible converge vers cette quantité.\n"
   ]
  },
  {
   "cell_type": "markdown",
   "metadata": {},
   "source": [
    "### Question 1\n",
    "Implémenter une fonction `lance_flechette` qui lance aléatoirement une fléchette dans le carré et renvoie vrai si la fléchette est dans la cible et faux sinon."
   ]
  },
  {
   "cell_type": "code",
   "execution_count": 2,
   "metadata": {},
   "outputs": [
    {
     "data": {
      "text/plain": [
       "array([[ 0.44047561, -0.42848973],\n",
       "       [ 0.44710508, -0.74430544]])"
      ]
     },
     "execution_count": 2,
     "metadata": {},
     "output_type": "execute_result"
    }
   ],
   "source": [
    "np.random.uniform(-1,1,size=(2,2))"
   ]
  },
  {
   "cell_type": "code",
   "execution_count": 3,
   "metadata": {},
   "outputs": [],
   "source": [
    "def lance_flechette():\n",
    "    f =  np.random.rand(1,2)\n",
    "    for i in f:\n",
    "        d = i[0]**2+i[1]**2\n",
    "        if(d > 1): return False\n",
    "    return True\n",
    "    "
   ]
  },
  {
   "cell_type": "markdown",
   "metadata": {},
   "source": [
    "### Question 2\n",
    "Ecrire une fonction `pi_flechette` qui prend en argument un entier $N$, réalise $N$ lancés de fléchette, trace l'estimation de $\\pi$ obtenue au fur et à mesure et renvoie l'estimation obtenue après $N$ lancés."
   ]
  },
  {
   "cell_type": "code",
   "execution_count": 4,
   "metadata": {},
   "outputs": [],
   "source": [
    "def pi_flechette(n=1000):\n",
    "    x = np.linspace(0,n,n)\n",
    "    y = []\n",
    "    k = 0\n",
    "    for i in range(n):\n",
    "        if(lance_flechette()): k+=1\n",
    "        y.append(4*k/(i+1))\n",
    "    fig,ax = plt.subplots()\n",
    "    print(x)\n",
    "    ax.plot(x,y)\n",
    "    print(y[-1])\n",
    "    "
   ]
  },
  {
   "cell_type": "code",
   "execution_count": 5,
   "metadata": {},
   "outputs": [
    {
     "name": "stdout",
     "output_type": "stream",
     "text": [
      "[0.00000000e+00 1.00010001e+00 2.00020002e+00 ... 9.99799980e+03\n",
      " 9.99899990e+03 1.00000000e+04]\n",
      "3.1516\n"
     ]
    },
    {
     "data": {
      "image/png": "[encoded data removed]",
      "text/plain": [
       "<Figure size 432x288 with 1 Axes>"
      ]
     },
     "metadata": {
      "needs_background": "light"
     },
     "output_type": "display_data"
    }
   ],
   "source": [
    "pi_flechette(10000)"
   ]
  },
  {
   "cell_type": "markdown",
   "metadata": {},
   "source": [
    "# Aiguille de Buffon \n",
    "\n",
    "Cette méthode est, elle aussi, basée sur un lancer aléatoire. On considère un parquet dont les lames font une largeur $l$ et sont posées en lignes (parquet à coupe). On laisse tomber, de façon aléatoire, des aiguilles de longueur $a$ sur le plancher et on compte la proportion de ces aiguilles qui sont à chevales sur deux lignes de parquet (on dira qu'elles coupent les lignes formées par le parquet).\n",
    "\n",
    "![Aiguille de Buffon](buffon.png)\n",
    "\n",
    "A nouveau, ce ratio converge vers la probabilité qu'une aiguille coupe une ligne de parquet. On admettra que cette probabilité est proportionnelle à $1/l$ (plus les lignes sont espacées moins il y a de chance de les croiser) et à $a$ et vaut $\\frac{2a}{l \\pi}$. Le nombre $\\pi/2$ apparaît en effet car l'angle formé entre l'aiguille et les lignes et compris entre $0$ et $\\pi/2$ et joue un rôle déterminant pour savoir si une aiguille coupe une ligne ou non.\n",
    "    \n",
    "Pour aller plus loin : https://fr.wikipedia.org/wiki/Aiguille_de_Buffon"
   ]
  },
  {
   "cell_type": "markdown",
   "metadata": {},
   "source": [
    "**Attention : à la fin de cet exercice, une animation des aiguilles sur le parquet sera faite par le script `calcule_et_dessine.py` disponible sur Dokéos. Pour que cette animation marche correctement, il faut respecter strictement les consignes des questions sur les noms du module et des fonctions, ainsi que les paramètres des fonctions et leurs valeurs de retour.**\n",
    "\n",
    "### Question 1\n",
    "Créer une fonction `dessin_parquet` qui dessine les lattes du parquet. Cette fonction doit prendre en argument un objet d'axes pour y faire le dessin. Afin de simplifier les choses, et comme cela ne change en rien la qualité de l'approximation trouvée, nous prendrons des lattes horizontales, de largeur unitaire et de longueur infinie. Il s'agit donc, pour tout entier $n$ compris entre 0 et 10, de dessiner la droite $y=n$. On la représentera uniquement sur le domaine $[0, 10]$. L'appel de `plt.show()` devra être fait en dehors de cette fonction (pour pouvoir afficher les aiguilles et le parquet sur une même figure).\n"
   ]
  },
  {
   "cell_type": "code",
   "execution_count": 6,
   "metadata": {},
   "outputs": [
    {
     "name": "stdout",
     "output_type": "stream",
     "text": [
      "[[9.1271464  1.27379081]]\n",
      "[[7.82532339 4.72004286]]\n"
     ]
    }
   ],
   "source": [
    "x = lambda : np.random.uniform(0,10,size = (1,2))\n",
    "print(x())\n",
    "print(x())"
   ]
  },
  {
   "cell_type": "code",
   "execution_count": 7,
   "metadata": {},
   "outputs": [
    {
     "name": "stderr",
     "output_type": "stream",
     "text": [
      "No handles with labels found to put in legend.\n"
     ]
    },
    {
     "data": {
      "text/plain": [
       "<matplotlib.legend.Legend at 0x2389ff044a8>"
      ]
     },
     "execution_count": 7,
     "metadata": {},
     "output_type": "execute_result"
    },
    {
     "data": {
      "image/png": "[encoded data removed]",
      "text/plain": [
       "<Figure size 432x288 with 1 Axes>"
      ]
     },
     "metadata": {
      "needs_background": "light"
     },
     "output_type": "display_data"
    }
   ],
   "source": [
    "def dessin_parquet(ax):\n",
    "    n = np.arange(0,11)\n",
    "    for i in n:\n",
    "        ax.plot(n,np.ones(11)*i,color = \"black\")\n",
    "        \n",
    "fig, ax = plt.subplots()\n",
    "dessin_parquet(ax)\n",
    "ax.legend()"
   ]
  },
  {
   "cell_type": "markdown",
   "metadata": {},
   "source": [
    "### Question 2 - Jet d'une aiguille\n",
    "Pour jeter une aiguille, il faut déterminer aléatoirement la position d'une de ses extrémités puis un angle.\n",
    "\n",
    "![Jet_aiguille](jet_aig.png)\n",
    "\t\n",
    "1. Ecrire une fonction `jette_aiguille()` qui détermine aléatoirement les coordonnées $(a_x,a_y)$ de l'extrémité $A$ dans le carré $[0, 10] \\times [0, 10]$ et l'angle $\\theta$. Cette fonction devra renvoyer sous forme d'un tableau $2\\times2$ les coordonnées de $A$ dans la première ligne et celles de $B$ dans la seconde.\n",
    "2. Ecrire une fonction `dessine_aiguille()` qui dessine l'aiguille. Il s'agit donc de dessiner le segment  $[A;B]$. Cette fonction prendra en argument le tableau renvoyé par `jette_aiguille()`.\n",
    "3. Ecrire une fonction `calcule_intersection()` qui prend en argument le tableau renvoyé par `jette_aiguille()` et renvoie vrai si l'aiguille est à cheval sur 2 lattes, faux sinon. On pourra remarquer que le numéro de la latte sur laquelle se trouve une position est donné par la partie entière de l'ordonnée de la position ($n = \\lfloor y \\rfloor$)\n"
   ]
  },
  {
   "cell_type": "code",
   "execution_count": 8,
   "metadata": {},
   "outputs": [],
   "source": [
    "def jette_aiguille():\n",
    "    t = 1\n",
    "    res = np.zeros((2,2))\n",
    "    the = lambda:np.random.uniform(0,np.pi/2)\n",
    "    x = lambda : np.random.uniform(0,10,size = (2))\n",
    "    a = x()\n",
    "    res[0][0] = a[0]\n",
    "    res[0][1] = a[1]\n",
    "    res[1][0] = a[0]+t*np.cos(the())\n",
    "    res[1][1] = a[1]+t*np.sin(the())\n",
    "    return res"
   ]
  },
  {
   "cell_type": "code",
   "execution_count": 9,
   "metadata": {},
   "outputs": [],
   "source": [
    "def dessine_aiguille(ax, seg):\n",
    "    ax.plot(seg[:,0], seg[:,0],color='red')"
   ]
  },
  {
   "cell_type": "code",
   "execution_count": 10,
   "metadata": {},
   "outputs": [
    {
     "data": {
      "image/png": "[encoded data removed]",
      "text/plain": [
       "<Figure size 432x288 with 1 Axes>"
      ]
     },
     "metadata": {
      "needs_background": "light"
     },
     "output_type": "display_data"
    }
   ],
   "source": [
    "aig = jette_aiguille()\n",
    "fig, ax = plt.subplots()\n",
    "dessine_aiguille(ax,aig)"
   ]
  },
  {
   "cell_type": "code",
   "execution_count": 11,
   "metadata": {},
   "outputs": [],
   "source": [
    "def calcule_intersection(aig):\n",
    "    if(math.floor(aig[0][1]) != math.floor(aig[1][1])):\n",
    "        return True\n",
    "    return False"
   ]
  },
  {
   "cell_type": "markdown",
   "metadata": {},
   "source": [
    "### Question 3 - Approximation de $\\pi$\n",
    "\n",
    "1. Définir une variable `nb_ite` dans votre script python (prendre par exemple 512) ; elle correspondra au nombre d'aiguille à jeter. Définir une autre variable `+ralenti = 1` qui vous servira à ralentir (en augmentant sa valeur) ou à accélérer l'animation.\n",
    "\n",
    "2. Exécuter la cellule suivante (commencait par le commentaire `calcule_et_dessine`) : il réalise `nb_ite` jets d'aiguille à l'aide de votre fonction `jette_aiguille`, les dessine et affiche dans le même temps l'approximation de $\\pi$ obtenue en fonction du nombre de tirages, calculée à l'aide de votre fonction \\verb@calcule_intersection@. \n",
    "\n",
    "Remarque : Au besoin, la taille de la figure peut-être modifiée en modifiant la valeur de `figsize` à la ligne 14 du script `calcule_intersection`."
   ]
  },
  {
   "cell_type": "code",
   "execution_count": 12,
   "metadata": {
    "scrolled": true
   },
   "outputs": [],
   "source": [
    "nb_ite = 200"
   ]
  },
  {
   "cell_type": "code",
   "execution_count": 14,
   "metadata": {},
   "outputs": [
    {
     "ename": "RuntimeError",
     "evalue": "Requested MovieWriter (ffmpeg) not available",
     "output_type": "error",
     "traceback": [
      "\u001b[1;31m---------------------------------------------------------------------------\u001b[0m",
      "\u001b[1;31mKeyError\u001b[0m                                  Traceback (most recent call last)",
      "\u001b[1;32m~\\Anaconda3\\lib\\site-packages\\matplotlib\\animation.py\u001b[0m in \u001b[0;36m__getitem__\u001b[1;34m(self, name)\u001b[0m\n\u001b[0;32m    160\u001b[0m         \u001b[1;32mtry\u001b[0m\u001b[1;33m:\u001b[0m\u001b[1;33m\u001b[0m\u001b[1;33m\u001b[0m\u001b[0m\n\u001b[1;32m--> 161\u001b[1;33m             \u001b[1;32mreturn\u001b[0m \u001b[0mself\u001b[0m\u001b[1;33m.\u001b[0m\u001b[0mavail\u001b[0m\u001b[1;33m[\u001b[0m\u001b[0mname\u001b[0m\u001b[1;33m]\u001b[0m\u001b[1;33m\u001b[0m\u001b[1;33m\u001b[0m\u001b[0m\n\u001b[0m\u001b[0;32m    162\u001b[0m         \u001b[1;32mexcept\u001b[0m \u001b[0mKeyError\u001b[0m\u001b[1;33m:\u001b[0m\u001b[1;33m\u001b[0m\u001b[1;33m\u001b[0m\u001b[0m\n",
      "\u001b[1;31mKeyError\u001b[0m: 'ffmpeg'",
      "\nDuring handling of the above exception, another exception occurred:\n",
      "\u001b[1;31mRuntimeError\u001b[0m                              Traceback (most recent call last)",
      "\u001b[1;32m<ipython-input-14-4b355c6190fc>\u001b[0m in \u001b[0;36m<module>\u001b[1;34m\u001b[0m\n\u001b[0;32m     57\u001b[0m \u001b[1;33m\u001b[0m\u001b[0m\n\u001b[0;32m     58\u001b[0m \u001b[0mani\u001b[0m \u001b[1;33m=\u001b[0m \u001b[0manim\u001b[0m\u001b[1;33m.\u001b[0m\u001b[0mFuncAnimation\u001b[0m\u001b[1;33m(\u001b[0m\u001b[0mfig\u001b[0m\u001b[1;33m,\u001b[0m \u001b[0mrun\u001b[0m\u001b[1;33m,\u001b[0m \u001b[0mframes\u001b[0m\u001b[1;33m=\u001b[0m\u001b[0mx\u001b[0m\u001b[1;33m,\u001b[0m \u001b[0mrepeat\u001b[0m\u001b[1;33m=\u001b[0m\u001b[1;32mFalse\u001b[0m\u001b[1;33m)\u001b[0m\u001b[1;33m\u001b[0m\u001b[1;33m\u001b[0m\u001b[0m\n\u001b[1;32m---> 59\u001b[1;33m \u001b[0mHTML\u001b[0m\u001b[1;33m(\u001b[0m\u001b[0mani\u001b[0m\u001b[1;33m.\u001b[0m\u001b[0mto_html5_video\u001b[0m\u001b[1;33m(\u001b[0m\u001b[1;33m)\u001b[0m\u001b[1;33m)\u001b[0m\u001b[1;33m\u001b[0m\u001b[1;33m\u001b[0m\u001b[0m\n\u001b[0m",
      "\u001b[1;32m~\\Anaconda3\\lib\\site-packages\\matplotlib\\animation.py\u001b[0m in \u001b[0;36mto_html5_video\u001b[1;34m(self, embed_limit)\u001b[0m\n\u001b[0;32m   1324\u001b[0m                 \u001b[1;31m# We create a writer manually so that we can get the\u001b[0m\u001b[1;33m\u001b[0m\u001b[1;33m\u001b[0m\u001b[1;33m\u001b[0m\u001b[0m\n\u001b[0;32m   1325\u001b[0m                 \u001b[1;31m# appropriate size for the tag\u001b[0m\u001b[1;33m\u001b[0m\u001b[1;33m\u001b[0m\u001b[1;33m\u001b[0m\u001b[0m\n\u001b[1;32m-> 1326\u001b[1;33m                 \u001b[0mWriter\u001b[0m \u001b[1;33m=\u001b[0m \u001b[0mwriters\u001b[0m\u001b[1;33m[\u001b[0m\u001b[0mrcParams\u001b[0m\u001b[1;33m[\u001b[0m\u001b[1;34m'animation.writer'\u001b[0m\u001b[1;33m]\u001b[0m\u001b[1;33m]\u001b[0m\u001b[1;33m\u001b[0m\u001b[1;33m\u001b[0m\u001b[0m\n\u001b[0m\u001b[0;32m   1327\u001b[0m                 writer = Writer(codec='h264',\n\u001b[0;32m   1328\u001b[0m                                 \u001b[0mbitrate\u001b[0m\u001b[1;33m=\u001b[0m\u001b[0mrcParams\u001b[0m\u001b[1;33m[\u001b[0m\u001b[1;34m'animation.bitrate'\u001b[0m\u001b[1;33m]\u001b[0m\u001b[1;33m,\u001b[0m\u001b[1;33m\u001b[0m\u001b[1;33m\u001b[0m\u001b[0m\n",
      "\u001b[1;32m~\\Anaconda3\\lib\\site-packages\\matplotlib\\animation.py\u001b[0m in \u001b[0;36m__getitem__\u001b[1;34m(self, name)\u001b[0m\n\u001b[0;32m    162\u001b[0m         \u001b[1;32mexcept\u001b[0m \u001b[0mKeyError\u001b[0m\u001b[1;33m:\u001b[0m\u001b[1;33m\u001b[0m\u001b[1;33m\u001b[0m\u001b[0m\n\u001b[0;32m    163\u001b[0m             raise RuntimeError(\n\u001b[1;32m--> 164\u001b[1;33m                 'Requested MovieWriter ({}) not available'.format(name))\n\u001b[0m\u001b[0;32m    165\u001b[0m \u001b[1;33m\u001b[0m\u001b[0m\n\u001b[0;32m    166\u001b[0m \u001b[1;33m\u001b[0m\u001b[0m\n",
      "\u001b[1;31mRuntimeError\u001b[0m: Requested MovieWriter (ffmpeg) not available"
     ]
    },
    {
     "name": "stderr",
     "output_type": "stream",
     "text": [
      "C:\\Users\\chens\\Anaconda3\\lib\\site-packages\\ipykernel_launcher.py:50: RuntimeWarning: divide by zero encountered in double_scalars\n"
     ]
    },
    {
     "data": {
      "image/png": "[encoded data removed]",
      "text/plain": [
       "<Figure size 504x576 with 2 Axes>"
      ]
     },
     "metadata": {
      "needs_background": "light"
     },
     "output_type": "display_data"
    }
   ],
   "source": [
    "# Création des 2 figures\n",
    "fig = plt.figure(figsize=(7, 8), constrained_layout=True)\n",
    "heights = [3, 1]\n",
    "spec = fig.add_gridspec(ncols=1, nrows=2, height_ratios=heights)\n",
    "ax1 = fig.add_subplot(spec[0, 0])\n",
    "ax2 = fig.add_subplot(spec[1, 0])\n",
    "# Réglage pour l'affichage du parquet et des aiguilles\n",
    "ax1.set_title(\"Jet d'aiguille\")\n",
    "ax1.set_xlim([0,10])\n",
    "ax1.set_ylim([0,10])\n",
    "ax1.get_xaxis().set_visible(False)\n",
    "ax1.get_yaxis().set_visible(False)\n",
    "dessin_parquet(ax1)\n",
    "# Réglage pour l'affichage de l'estimation de pi\n",
    "ax2.set_title('Estimation de $\\pi$')\n",
    "ax2.set_xlabel('nombre de tirage')\n",
    "ax2.set_ylabel('estimation de $\\pi$')\n",
    "ax2.set_ylim(1, 5)\n",
    "ax2.plot([0, nb_ite-1],[np.pi, np.pi], color='navy', label=\"valeur de référence\")\n",
    "\n",
    "# Sous-graphique du haut : intialisation d'une ligne par aiguille.\n",
    "lines = [ax1.plot([], [], color='black', lw=2)[0] for _ in range(nb_ite)]\n",
    "# Sous-graphique du bas : initialisation d'une ligne pour mettre à jour la valeur de pi.\n",
    "line2, = ax2.plot([], [], color='orange', label=\"estimation\")\n",
    "ax2.legend()\n",
    "lines.append(line2)\n",
    "\n",
    "# Initialisation des tableaux de données.\n",
    "xdata, y2data = [0], [1]\n",
    "ite =0\n",
    "def run(data):\n",
    "    # Mise à jour du nombre de lancé\n",
    "    t = data\n",
    "    xdata.append(t)\n",
    "    \n",
    "    ## Ajout d'une nouvelle aiguille.\n",
    "    aig0 = jette_aiguille()\n",
    "    xa = [aig0[0, 0], aig0[1, 0]]\n",
    "    ya = [aig0[0, 1], aig0[1, 1]]\n",
    "    lines[t].set_data(xa, ya)\n",
    "    \n",
    "    ## Mise à jour de l'estimation de pi   \n",
    "    # Mise à jour des axes pour suivre le nombre de lancé.\n",
    "    xmin, xmax = ax2.get_xlim()\n",
    "    if t >= xmax:\n",
    "        ax2.set_xlim(0, 1.5*xmax)\n",
    "    # Ajout de la nouvelle estimation de pi\n",
    "    prev = 2./y2data[-1]\n",
    "    y2= (t*prev + calcule_intersection(aig0))/(t+1)\n",
    "    y2 = 2./y2\n",
    "    y2data.append(y2)\n",
    "    lines[-1].set_data(xdata, y2data)\n",
    "    return lines\n",
    "\n",
    "x = np.arange(0,nb_ite)#np.linspace(0, 2*np.pi, 128)\n",
    "ax2.set_xlim(0,10)\n",
    "\n",
    "ani = anim.FuncAnimation(fig, run, frames=x, repeat=False)\n",
    "HTML(ani.to_html5_video())"
   ]
  },
  {
   "cell_type": "code",
   "execution_count": null,
   "metadata": {
    "hideCode": true,
    "hidePrompt": false
   },
   "outputs": [],
   "source": [
    "print(\"Estimation pour n={} : \".format(nb_ite),y2data[-1])"
   ]
  },
  {
   "cell_type": "markdown",
   "metadata": {},
   "source": [
    "# Calcul d'une intégrale\n",
    "\n",
    "La dérivée de la fonction $\\arctan$ est une fraction rationnelle que l'on peut évaluer sans connaître $\\pi$. Elle peut elle même permettre d'estimer $\\pi$ à partir de l'égalité suivante :\n",
    "\n",
    "\\begin{equation}\n",
    "\\label{eq:pi_integrale}\n",
    "\\int_0^1 \\frac{\\mathrm{d}x}{1+x^2} = \\Big[ \\arctan x \\Big]_0^1 = \\frac{\\pi}{4}\n",
    "\\end{equation}\n",
    "\n",
    "## Méthode déterministe pour le calcul d'intégrale\n",
    "\n",
    "### Principe général\n",
    "Les intégrales les plus simpes à calculer sont les polynômes de petit degrès. Le cas extrème consiste à prendre $f$ constante égale à $K$, son intégrale sur le segment $[a;b]$ est alors égale à $K(b-a)$.\n",
    "\n",
    "Ici la fonction n'est pas constante mais elle est trés régulière (elle est de classe $\\mathcal{C}^{\\infty}$). Sur un petit segment $[a,b]$, l'inégalité des accroissements finis fournit :\n",
    "\n",
    "\\begin{equation*}\n",
    "\\forall x \\in [a,b], \\big\\vert f(x) - f(a) \\big\\vert \\leqslant \\max_{y\\in [a,b]}\\big\\vert f'(y)\\big\\vert \\vert x -a\\vert = \\max_{y\\in [a,b]}\\big\\vert f'(y)\\big\\vert (x -a)\n",
    "\\end{equation*}\n",
    "\n",
    "### Question 1\n",
    "\n",
    "Majorer l'éccart entre I, l'intégrale de $f$ sur $[a;b]$ et $I_a$ l'intégrale de $x\\mapsto f(a)$ sur le même intervalle.\n",
    "\n"
   ]
  },
  {
   "cell_type": "markdown",
   "metadata": {},
   "source": [
    "En intégrant, on trouve donc :\n",
    "\n",
    "\\begin{align}\n",
    "\\Bigg\\vert \\int_a^b f(x)\\mathrm{d}x - \\underbrace{f(a)(b-a)}_{\\text{intégrale de $x\\mapsto f(a)$}} \\Bigg\\vert \n",
    "& \\leqslant \\int_a^b \\big\\vert f(x) - f(a) \\big\\vert \\mathrm{d}x \\nonumber\n",
    "\\\\ & \\leqslant \\max_{y\\in [a,b]}\\big\\vert f'(y)\\big\\vert \\int_a^b (x-a) \\mathrm{d}x\n",
    "\\\\ \\Bigg\\vert \\int_a^b f(x)\\mathrm{d}x - f(a)(b-a) \\Bigg\\vert \n",
    "& \\leqslant \\max_{y\\in [a,b]}\\big\\vert f'(y)\\big\\vert \\frac{(b-a)^2}{2}\n",
    "\\end{align}\n",
    "$f(a)(b-a)$ est donc une bonne approximation de l'intégrale dès que $f'$ est petite ou $(b-a)$ petit."
   ]
  },
  {
   "cell_type": "markdown",
   "metadata": {},
   "source": [
    "### Retour au problème de départ\n",
    "Ici $f': x \\mapsto -2x/(1+x^2)^2$ est majorée par $1$:\n",
    "\\begin{align}\n",
    "    0 \\leqslant 1 - 2\\vert x \\vert + x^2 &\\Leftrightarrow 2 \\vert x \\vert \\leqslant 1 + x^2\n",
    "    \\\\ &\\Rightarrow 2 \\vert x \\vert \\leqslant 1 + x^2 \\quad \\text{car $1+x^2 \\leqslant 1$}\n",
    "    \\\\ &\\Rightarrow \\big\\vert f'(x) \\big\\vert \\leqslant 1\n",
    "\\end{align}\n",
    "Par ailleurs $b-a$ est égal à 1 si on utilise cette approximation directement sur $[a;b]=[0;1]$. L'idée précédente fournirait donc une erreur de l'ordre majorée par $1$ ce qui n'est pas satisfaisant.\n",
    "\n",
    "Essayons autrement, appliquons cette méthode sur un petit segment $[a;b]=[x_i;x_{i+1}]$ avec $x_i = i \\Delta x$ pour $i$ compris entre 0 et $N$ et $\\Delta x = 1/N$ : cette fois-ci, l'erreur, sur un petit segment est de $\\frac{\\Delta x^2}{2} = \\frac{1}{2 N^2}$ ce qui est petit pour $N$ grand (par exemple 100, 1000 ou 10 000).\n",
    "L'idée est alors de mettre bout à bout ces petits segments en remarquant que $x_0 =0$ et $x_N = 1$ :\n",
    "\n",
    "\\begin{equation*}\n",
    "I = \\int_0^1 \\frac{\\mathrm{d}x}{1+x^2} = \\sum_{i=0}^{N-1} \\int_{x_i}^{x_{i+1}} \\frac{\\mathrm{d}x}{1+x^2}\n",
    "\\end{equation*}\n",
    "\n",
    "### Question 2\n",
    "A l'aide de la question précédente, calculer la différence entre I et la somme des $\\int_{x_i}^{x_{i+1}} \\frac{\\mathrm{d}x}{1+x_i^2}$"
   ]
  },
  {
   "cell_type": "markdown",
   "metadata": {},
   "source": [
    "*Réponse*\n",
    "\n",
    "A l'aide des inégalités précédentes :\n",
    "\\begin{align}\n",
    "\\Bigg\\vert \\int_{x_i}^{x_{i+1}} \\frac{\\mathrm{d}x}{1+x^2} - \\Delta f(x_i) \\Bigg\\vert & \\leqslant \\frac{\\Delta x^2}{2}\n",
    "\\\\ \\Bigg\\vert \\sum_{i=0}^{10^k -1} \\bigg[ \\int_{x_i}^{x_{i+1}} \\frac{\\mathrm{d}x}{1+x^2} - \\frac{\\Delta x}{1+x_i^2} \\bigg] \\Bigg\\vert \n",
    "\\leqslant \\sum_{i=0}^{N-1} \\Bigg\\vert \\int_{x_i}^{x_{i+1}} \\frac{\\mathrm{d}x}{1+x^2} - \\frac{\\Delta x}{1+x_i^2}  \\Bigg\\vert\n",
    "& \\leqslant \\sum_{i=0}^{10^k -1} \\frac{\\Delta x^2}{2}\n",
    "\\\\ \\Bigg\\vert \\int_{x_0}^{x_{N}} \\frac{\\mathrm{d}x}{1+x^2} - \\sum_{i=0}^{N -1}\\frac{\\Delta x}{1+x_i^2} \\bigg] \\Bigg\\vert \n",
    "& \\leqslant \\frac{\\Delta x^2}{2}\n",
    "\\\\ \\Bigg\\vert \\int_{0}^{1} \\frac{\\mathrm{d}x}{1+x^2} - \\sum_{i=0}^{N -1}\\frac{\\Delta x}{1+x_i^2} \\bigg] \\Bigg\\vert \n",
    "& \\leqslant \\frac{\\Delta x}{2}\n",
    "\\end{align}\n",
    "\n",
    "Cela montre, pour $N = 10^k$, que $\\sum_{i=0}^{10^k -1}\\frac{10^{-k}}{1+x_i^2}$ donne les $k$ premières décimales de $\\pi/4$."
   ]
  },
  {
   "cell_type": "markdown",
   "metadata": {
    "hidePrompt": true
   },
   "source": [
    "![Méthode des rectangles à gauches](approx_int.png)"
   ]
  },
  {
   "cell_type": "markdown",
   "metadata": {},
   "source": [
    "Pour estimer l'intégrale de $f$, nous allons donc calculer, numériquement :\n",
    "\\begin{equation*}\n",
    "\tI_{\\Delta x} = \\sum_{i=0}^{n -1} f(i \\Delta x) \\Delta x,\n",
    "\\end{equation*}\n",
    "avec $\\Delta x = (b-a)/n$ . Pour tester vos codes, vous pourrez prendre $\\Delta x = 10^{-k}$ avec $k=1, 2$ ou 3.\n",
    "\n",
    "### Question 3\n",
    "1. Ecrire une fonction `pi_int_rect(n)` qui calcule l'approximation de l'intégrale sur $[0;1]$ de $f : x \\mapsto \\frac{1}{1+x^2}$ puis s'en sert pour renvoyer une approximation de $\\pi$.\n",
    "2. Ecrire une fonction `dessine_pi_rect(N)` qui dessine l'approximation de $\\pi$ obtenue pour différente valeurs de $n$ réparties intelligemment entre 0 et $N$.\n",
    "Par exemple, on pourra tracer l'approximation pour $n=1, 2, 4, 8, 16, 32, \\dotsc $ jusqu'à dépasser $N$ (il s'agit donc de prendre 2 fois plus de points à chaque étape).\n"
   ]
  },
  {
   "cell_type": "code",
   "execution_count": 15,
   "metadata": {},
   "outputs": [],
   "source": [
    "import numpy as np\n",
    "import numpy.random as npr\n",
    "import matplotlib.pyplot as plt\n",
    "import matplotlib.animation as anim\n",
    "from IPython.display import HTML"
   ]
  },
  {
   "cell_type": "code",
   "execution_count": 16,
   "metadata": {},
   "outputs": [],
   "source": [
    "def f(x):\n",
    "    \"\"\"\n",
    "    Dérivée de la fonction arctan\n",
    "    \"\"\"\n",
    "    return 1./(1.+x**2)\n",
    "\n",
    "def pi_int_rect(n):\n",
    "    \"\"\"\n",
    "    Evaluation de pi par la méthode des rectangles\n",
    "    \"\"\"\n",
    "    d = 0.001\n",
    "    x = np.arange(0,1,d)\n",
    "    res = 0\n",
    "    for i in x:\n",
    "        res += d*f(i)\n",
    "    return res"
   ]
  },
  {
   "cell_type": "code",
   "execution_count": 17,
   "metadata": {},
   "outputs": [
    {
     "name": "stdout",
     "output_type": "stream",
     "text": [
      "Estimation pour n=500 :  0.7856481217307805\n"
     ]
    }
   ],
   "source": [
    "print(\"Estimation pour n=500 : \",pi_int_rect(500))"
   ]
  },
  {
   "cell_type": "code",
   "execution_count": 18,
   "metadata": {},
   "outputs": [],
   "source": [
    "def dessine_pi_int_rect(n=512):\n",
    "    \"\"\"\n",
    "    Estime Pi à partir du calcul de l'intégrale par la méthode\n",
    "    des rectangles à gauche et affiche le résultat obtenue en fonction de n.\n",
    "    \"\"\"\n",
    "    return pi_int_rect(n)*4"
   ]
  },
  {
   "cell_type": "code",
   "execution_count": 19,
   "metadata": {},
   "outputs": [
    {
     "data": {
      "text/plain": [
       "3.142592486923122"
      ]
     },
     "execution_count": 19,
     "metadata": {},
     "output_type": "execute_result"
    }
   ],
   "source": [
    "dessine_pi_int_rect(n=1000)"
   ]
  },
  {
   "cell_type": "markdown",
   "metadata": {},
   "source": [
    "### Méthode de Monte-Carlo\n",
    "\n",
    "Comme nous l'avons dit précédemment, l'intégrale est aussi égale à l'aire sous la courbe (d'autant plus qu'ici la fonction à intégrer est positive). Rappelons que la fonction est à intégrer entre 0 et 1 et qu'elle même prend des valeurs comprises entre 0 et 1.\n",
    "\n",
    "Comme pour le tir de fléchette, cette aire peut être approchée en choisissant aléatoirement des points dans $[0;1]\\times[0;1]$ et en comptant la proportion des points qui sont sur la courbe.\n",
    "\n",
    "Cette proportion converge alors vers l'aire sous la courbe divisée par l'aire de $[0;1]\\times[0;1]$ qui vaut $1$. Cette méthode de calcul d'intégrale s'appelle la méthode de Monte-Carlo. Ainsi, la boucle est bouclée ...\n",
    "\n",
    "### Questions 4\n",
    "1. Ecrire une fonction `ajout_tirage()` qui tire aléatoirement un point et vérifie s'il est sous la courbe (renvoyer vrai si c'est le cas, faux sinon).\n",
    "2.  Ecrire une fonction `pi_int_mc(n)` qui approche l'intégrale recherché par la méthode de Monte-Carlo en tirant $n$ points aléatoirement. Cette fonction devra afficher l'estimation de $\\pi$ au fur et à mesure des tirage de nombre aléatoire (comme cela avait été fait pour les fléchettes) puis renvoyer l'estimation finale de $\\pi$.\n"
   ]
  },
  {
   "cell_type": "code",
   "execution_count": 29,
   "metadata": {},
   "outputs": [
    {
     "data": {
      "text/plain": [
       "array([0.48724831, 0.08060701])"
      ]
     },
     "execution_count": 29,
     "metadata": {},
     "output_type": "execute_result"
    }
   ],
   "source": [
    "np.random.rand(2)"
   ]
  },
  {
   "cell_type": "code",
   "execution_count": 36,
   "metadata": {},
   "outputs": [],
   "source": [
    "def ajout_tirage():\n",
    "    x = np.random.rand(2)\n",
    "    return f(x[0]) > x[1]\n",
    "\n",
    "def pi_int_mc(n=1000):\n",
    "    count = 0\n",
    "    for i in range(n):\n",
    "        if(ajout_tirage()):\n",
    "            count += 1\n",
    "    return (count/n)*4"
   ]
  },
  {
   "cell_type": "code",
   "execution_count": 38,
   "metadata": {},
   "outputs": [
    {
     "data": {
      "text/plain": [
       "3.142"
      ]
     },
     "execution_count": 38,
     "metadata": {},
     "output_type": "execute_result"
    }
   ],
   "source": [
    "pi_int_mc(10000)"
   ]
  },
  {
   "cell_type": "markdown",
   "metadata": {},
   "source": [
    "### Pour aller plus loin\n",
    "Supposons que l'on modifie le calcul de l'intégrale par la méthode des rectangles : au lieu de prendre $f(x_i)$ comme hauteur du rectangle, on considère la valeur au milieu, $f\\big(\\frac{x_i+x_{i+1}}{2}\\big)$, que se passe-t-il ?\n",
    " Dans cette question on approchera donc $I$ par \n",
    " \\begin{equation*}\n",
    "\tI_{\\text{mid},\\Delta x} = \\sum_{i=0}^{n -1} f[(i+0.5) \\Delta x] \\Delta x,\n",
    "\\end{equation*}\n",
    "1. Ecrire une fonction `pi_int_mid(n)` qui calcule l'approximation de l'intégrale sur $[0;1]$ de $f : x \\mapsto \\frac{1}{1+x^2}$ puis s'en sert pour renvoyer une approximation de $\\pi$.\n",
    "2. Ecrire une fonction `dessine_pi_int(N)` qui dessine l'approximation de $\\pi$ obtenue pour différente valeurs de $n$ réparties intelligemment entre 0 et $N$.\n",
    "Par exemple, on pourra tracer l'approximation pour $n=1, 2, 4, 8, 16, 32, \\dotsc $ jusqu'à dépasser $N$ (il s'agit donc de prendre 2 fois plus de points à chaque étape).\n",
    "\n"
   ]
  },
  {
   "cell_type": "code",
   "execution_count": 48,
   "metadata": {},
   "outputs": [],
   "source": [
    "def pi_int_mid(n):\n",
    "    \"\"\"\n",
    "    Evaluation de pi par la méthode du point milieu\n",
    "    \"\"\"\n",
    "    d = 1/n\n",
    "    somme = 0\n",
    "    for i in range(n):\n",
    "        somme += f((i+0.5)*d)*d\n",
    "    return somme*4\n",
    "    pass\n",
    "\n",
    "def dessine_pi_int_compare(n=512):\n",
    "    \"\"\"\n",
    "    Estime Pi à partir de deux méthodes déterministe de calcul de l'intégrale\n",
    "    et affiche le résultat obtenue en fonction de n.\n",
    "    \"\"\"\n",
    "    y =[]\n",
    "    for i in range(1,n):\n",
    "        y.append(pi_int_mid(i))\n",
    "    ax = plt.axes()\n",
    "    ax.plot(range(1,n),y)\n",
    "    plt.show()\n",
    "    pass"
   ]
  },
  {
   "cell_type": "code",
   "execution_count": 50,
   "metadata": {},
   "outputs": [
    {
     "data": {
      "image/png": "[encoded data removed]",
      "text/plain": [
       "<Figure size 432x288 with 1 Axes>"
      ]
     },
     "metadata": {
      "needs_background": "light"
     },
     "output_type": "display_data"
    }
   ],
   "source": [
    "dessine_pi_int_compare()"
   ]
  },
  {
   "cell_type": "code",
   "execution_count": 42,
   "metadata": {},
   "outputs": [
    {
     "data": {
      "text/plain": [
       "3.1415926544231363"
      ]
     },
     "execution_count": 42,
     "metadata": {},
     "output_type": "execute_result"
    }
   ],
   "source": [
    "pi_int_mid(10000)"
   ]
  }
 ],
 "metadata": {
  "celltoolbar": "Hide code",
  "kernelspec": {
   "display_name": "Python 3",
   "language": "python",
   "name": "python3"
  },
  "language_info": {
   "codemirror_mode": {
    "name": "ipython",
    "version": 3
   },
   "file_extension": ".py",
   "mimetype": "text/x-python",
   "name": "python",
   "nbconvert_exporter": "python",
   "pygments_lexer": "ipython3",
   "version": "3.7.3"
  }
 },
 "nbformat": 4,
 "nbformat_minor": 2
}
